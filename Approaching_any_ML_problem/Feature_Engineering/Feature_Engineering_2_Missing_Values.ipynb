{
 "cells": [
  {
   "cell_type": "markdown",
   "metadata": {},
   "source": [
    "<b>Using k-nearest neighbour</b>"
   ]
  },
  {
   "cell_type": "code",
   "execution_count": 1,
   "metadata": {},
   "outputs": [],
   "source": [
    "import numpy as np\n",
    "from sklearn import impute\n"
   ]
  },
  {
   "cell_type": "code",
   "execution_count": 5,
   "metadata": {},
   "outputs": [
    {
     "data": {
      "text/plain": [
       "array([[13.,  4., 13., nan,  4.,  5.],\n",
       "       [11., 14., 13., nan, 12., 10.],\n",
       "       [14., 13., 10., nan,  6., nan],\n",
       "       [ 1., nan,  6.,  2.,  8., 10.],\n",
       "       [ 1., 13., 14.,  1.,  5., 12.],\n",
       "       [nan,  8.,  2.,  6.,  7.,  9.],\n",
       "       [nan,  5., 14.,  5., nan, 11.],\n",
       "       [12.,  9.,  7., 11., 10., nan],\n",
       "       [ 9., 11., 12.,  3.,  8., nan],\n",
       "       [12.,  8.,  8., 11.,  5.,  7.]])"
      ]
     },
     "execution_count": 5,
     "metadata": {},
     "output_type": "execute_result"
    }
   ],
   "source": [
    "X = np.random.randint(1, 15, (10, 6))\n",
    "X = X.astype(float)\n",
    "#assinging nan values\n",
    "X.ravel()[np.random.choice(X.size,10,replace=False)] = np.nan\n",
    "X"
   ]
  },
  {
   "cell_type": "code",
   "execution_count": 6,
   "metadata": {},
   "outputs": [
    {
     "data": {
      "text/plain": [
       "array([[13. ,  4. , 13. ,  8. ,  4. ,  5. ],\n",
       "       [11. , 14. , 13. ,  7. , 12. , 10. ],\n",
       "       [14. , 13. , 10. ,  7. ,  6. ,  8.5],\n",
       "       [ 1. , 10.5,  6. ,  2. ,  8. , 10. ],\n",
       "       [ 1. , 13. , 14. ,  1. ,  5. , 12. ],\n",
       "       [ 6.5,  8. ,  2. ,  6. ,  7. ,  9. ],\n",
       "       [11. ,  5. , 14. ,  5. ,  6. , 11. ],\n",
       "       [12. ,  9. ,  7. , 11. , 10. ,  8. ],\n",
       "       [ 9. , 11. , 12. ,  3. ,  8. , 10.5],\n",
       "       [12. ,  8. ,  8. , 11. ,  5. ,  7. ]])"
      ]
     },
     "execution_count": 6,
     "metadata": {},
     "output_type": "execute_result"
    }
   ],
   "source": [
    "# handling the nan values\n",
    "knn_imputer = impute.KNNImputer(n_neighbors=2)\n",
    "knn_imputer.fit_transform(X)"
   ]
  },
  {
   "cell_type": "markdown",
   "metadata": {},
   "source": [
    "<b>Another way of imputing missing values in a column would be to train a regression\n",
    "model that tries to predict missing values in a column based on other columns.</b>"
   ]
  },
  {
   "cell_type": "code",
   "execution_count": null,
   "metadata": {},
   "outputs": [],
   "source": []
  }
 ],
 "metadata": {
  "kernelspec": {
   "display_name": "deep_learning",
   "language": "python",
   "name": "deep_learning"
  },
  "language_info": {
   "codemirror_mode": {
    "name": "ipython",
    "version": 3
   },
   "file_extension": ".py",
   "mimetype": "text/x-python",
   "name": "python",
   "nbconvert_exporter": "python",
   "pygments_lexer": "ipython3",
   "version": "3.7.7"
  }
 },
 "nbformat": 4,
 "nbformat_minor": 4
}
