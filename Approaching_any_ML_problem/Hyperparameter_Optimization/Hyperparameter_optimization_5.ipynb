{
 "cells": [
  {
   "cell_type": "markdown",
   "metadata": {},
   "source": [
    "Here we will implement a new library for <br>\n",
    "<b>Hyperopt : a Tree-structured Prazen Estimator (TPE) </b>"
   ]
  },
  {
   "cell_type": "code",
   "execution_count": 1,
   "metadata": {},
   "outputs": [],
   "source": [
    "import numpy as np\n",
    "import pandas as pd\n",
    "from functools import partial"
   ]
  },
  {
   "cell_type": "code",
   "execution_count": 4,
   "metadata": {},
   "outputs": [],
   "source": [
    "from sklearn import ensemble\n",
    "from sklearn import metrics\n",
    "from sklearn import model_selection\n",
    "from hyperopt import hp, fmin,tpe,Trials\n",
    "from hyperopt.pyll.base import scope"
   ]
  },
  {
   "cell_type": "code",
   "execution_count": 12,
   "metadata": {},
   "outputs": [],
   "source": [
    "def optimize(params,x,y):\n",
    "    model = ensemble.RandomForestClassifier(**params)\n",
    "    kf = model_selection.StratifiedKFold(n_splits=5)\n",
    "    accuracies = []\n",
    "    for idx in kf.split(X=x,y=y):\n",
    "        train_idx, test_idx = idx[0], idx[1]\n",
    "        xtrain = x[train_idx]\n",
    "        ytrain = y[train_idx]\n",
    "        xtest = x[test_idx]\n",
    "        ytest = y[test_idx]\n",
    "        # fit model for current fold\n",
    "        model.fit(xtrain, ytrain)\n",
    "        #create predictions\n",
    "        preds = model.predict(xtest)\n",
    "        # calculate and append accuracy\n",
    "        fold_accuracy = metrics.accuracy_score(\n",
    "        ytest,\n",
    "        preds\n",
    "        )\n",
    "        accuracies.append(fold_accuracy)\n",
    "    # return negative accuracy\n",
    "    return -1 * np.mean(accuracies)\n"
   ]
  },
  {
   "cell_type": "code",
   "execution_count": 13,
   "metadata": {},
   "outputs": [
    {
     "name": "stdout",
     "output_type": "stream",
     "text": [
      "100%|████████████████████████████████████████████████████████████| 15/15 [04:41<00:00, 18.80s/trial, best loss: -0.905]\n",
      "{'_estimators': 771.0, 'criterion': 1, 'max_depth': 7.0, 'max_features': 0.7495050075795785}\n"
     ]
    }
   ],
   "source": [
    "if __name__ == \"__main__\":\n",
    "    df = pd.read_csv(\"input/mobile_train.csv\")\n",
    "    X = df.drop(\"price_range\",axis=1).values\n",
    "    y = df.price_range.values\n",
    "    param_space = {\n",
    "        \"max_depth\":scope.int(hp.quniform(\"max_depth\",1,15,1)),\n",
    "        \"n_estimators\":scope.int(\n",
    "            hp.quniform(\"_estimators\",100,1500,1)\n",
    "        ),\n",
    "        \"criterion\":hp.choice(\"criterion\",['gini','entropy']),\n",
    "        \"max_features\":hp.uniform(\"max_features\",0,1)\n",
    "    }\n",
    "    optimization_function = partial(\n",
    "    optimize,\n",
    "    x = X,\n",
    "    y=y\n",
    "    )\n",
    "    \n",
    "    trials = Trials()\n",
    "    \n",
    "    hopt = fmin(\n",
    "        fn = optimization_function,\n",
    "        space = param_space,\n",
    "        algo = tpe.suggest,\n",
    "        max_evals = 15,\n",
    "        trials = trials\n",
    "    )\n",
    "    print(hopt)"
   ]
  },
  {
   "cell_type": "code",
   "execution_count": null,
   "metadata": {},
   "outputs": [],
   "source": []
  }
 ],
 "metadata": {
  "kernelspec": {
   "display_name": "deep_learning",
   "language": "python",
   "name": "deep_learning"
  },
  "language_info": {
   "codemirror_mode": {
    "name": "ipython",
    "version": 3
   },
   "file_extension": ".py",
   "mimetype": "text/x-python",
   "name": "python",
   "nbconvert_exporter": "python",
   "pygments_lexer": "ipython3",
   "version": "3.7.7"
  }
 },
 "nbformat": 4,
 "nbformat_minor": 4
}
