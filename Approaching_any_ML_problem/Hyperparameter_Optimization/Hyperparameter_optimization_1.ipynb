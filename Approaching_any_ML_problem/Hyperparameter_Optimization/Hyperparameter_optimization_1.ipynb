{
 "cells": [
  {
   "cell_type": "markdown",
   "metadata": {},
   "source": [
    "Parameters that control the training/fitting process of a model to a data in called as <b>Hyperparamters</b>."
   ]
  },
  {
   "cell_type": "markdown",
   "metadata": {},
   "source": [
    "<b>Hyper-parameter Optimization</b> is the process of choosing the mot suitable set of hyper-parameter so that the model can deliever the best results possible."
   ]
  },
  {
   "cell_type": "markdown",
   "metadata": {},
   "source": [
    "Here we take an examples where we have 3 parameters to tune inorder to the get the highest accuracy possible."
   ]
  },
  {
   "cell_type": "markdown",
   "metadata": {},
   "source": [
    "best_accurac = 0\n",
    "best_parameters = {\"a\":0,\"b\":0,\"c\":0}\n",
    "for a in range(1, 11):\n",
    "    for b in range(1, 11):\n",
    "        for c in range(1, 11):\n",
    "            # inititalize model with current parameters\n",
    "            model = MODEL(a, b, c)\n",
    "            # fit the model\n",
    "            model.fit(training_data)\n",
    "            # make predictions\n",
    "            preds = model.predict(validation_data)\n",
    "            # calculate accuracy\n",
    "            accuracy = metrics.accuracy_score(targets, preds)\n",
    "            # save params if current accuracy\n",
    "            # is greater than best accuracy\n",
    "            if accuracy > best_accuracy:\n",
    "                best_accuracy = accuracy\n",
    "                best_parameters[\"a\"] = a\n",
    "                best_parameters[\"b\"] = b\n",
    "                best_parameters[\"c\"] = c\n",
    "            "
   ]
  },
  {
   "cell_type": "markdown",
   "metadata": {},
   "source": [
    "Example for <b>RandomForestClassifier</b> hyper-parameters\n",
    "<p> <br> </p>\n",
    "\n",
    "`RandomForestClassifier(\n",
    "    n_estimators=100,\n",
    "    criterion='gini',\n",
    "    max_depth=None,\n",
    "    min_samples_split=2,\n",
    "    min_samples_leaf=1,\n",
    "    min_weight_fraction_leaf=0.0,\n",
    "    max_features='auto',\n",
    "    max_leaf_nodes=None,\n",
    "    min_impurity_decrease=0.0,\n",
    "    min_impurity_split=None,\n",
    "    bootstrap=True,\n",
    "    oob_score=False,\n",
    "    n_jobs=None,\n",
    "    random_state=None,\n",
    "    verbose=0,\n",
    "    warm_start=False,\n",
    "    class_weight=None,\n",
    "    ccp_alpha=0.0,\n",
    "    max_samples=None,\n",
    ")`"
   ]
  },
  {
   "cell_type": "markdown",
   "metadata": {},
   "source": [
    "Tuning all the parameters in not possible so,<br>\n",
    "we use <b>Grid Search</b> which enables us to provide a combination of hyper-parameter to the model and let it training on all the combinations given and land to the best accuracy possible."
   ]
  },
  {
   "cell_type": "code",
   "execution_count": 2,
   "metadata": {},
   "outputs": [
    {
     "data": {
      "text/html": [
       "<div>\n",
       "<style scoped>\n",
       "    .dataframe tbody tr th:only-of-type {\n",
       "        vertical-align: middle;\n",
       "    }\n",
       "\n",
       "    .dataframe tbody tr th {\n",
       "        vertical-align: top;\n",
       "    }\n",
       "\n",
       "    .dataframe thead th {\n",
       "        text-align: right;\n",
       "    }\n",
       "</style>\n",
       "<table border=\"1\" class=\"dataframe\">\n",
       "  <thead>\n",
       "    <tr style=\"text-align: right;\">\n",
       "      <th></th>\n",
       "      <th>battery_power</th>\n",
       "      <th>blue</th>\n",
       "      <th>clock_speed</th>\n",
       "      <th>dual_sim</th>\n",
       "      <th>fc</th>\n",
       "      <th>four_g</th>\n",
       "      <th>int_memory</th>\n",
       "      <th>m_dep</th>\n",
       "      <th>mobile_wt</th>\n",
       "      <th>n_cores</th>\n",
       "      <th>...</th>\n",
       "      <th>px_height</th>\n",
       "      <th>px_width</th>\n",
       "      <th>ram</th>\n",
       "      <th>sc_h</th>\n",
       "      <th>sc_w</th>\n",
       "      <th>talk_time</th>\n",
       "      <th>three_g</th>\n",
       "      <th>touch_screen</th>\n",
       "      <th>wifi</th>\n",
       "      <th>price_range</th>\n",
       "    </tr>\n",
       "  </thead>\n",
       "  <tbody>\n",
       "    <tr>\n",
       "      <th>0</th>\n",
       "      <td>842</td>\n",
       "      <td>0</td>\n",
       "      <td>2.2</td>\n",
       "      <td>0</td>\n",
       "      <td>1</td>\n",
       "      <td>0</td>\n",
       "      <td>7</td>\n",
       "      <td>0.6</td>\n",
       "      <td>188</td>\n",
       "      <td>2</td>\n",
       "      <td>...</td>\n",
       "      <td>20</td>\n",
       "      <td>756</td>\n",
       "      <td>2549</td>\n",
       "      <td>9</td>\n",
       "      <td>7</td>\n",
       "      <td>19</td>\n",
       "      <td>0</td>\n",
       "      <td>0</td>\n",
       "      <td>1</td>\n",
       "      <td>1</td>\n",
       "    </tr>\n",
       "    <tr>\n",
       "      <th>1</th>\n",
       "      <td>1021</td>\n",
       "      <td>1</td>\n",
       "      <td>0.5</td>\n",
       "      <td>1</td>\n",
       "      <td>0</td>\n",
       "      <td>1</td>\n",
       "      <td>53</td>\n",
       "      <td>0.7</td>\n",
       "      <td>136</td>\n",
       "      <td>3</td>\n",
       "      <td>...</td>\n",
       "      <td>905</td>\n",
       "      <td>1988</td>\n",
       "      <td>2631</td>\n",
       "      <td>17</td>\n",
       "      <td>3</td>\n",
       "      <td>7</td>\n",
       "      <td>1</td>\n",
       "      <td>1</td>\n",
       "      <td>0</td>\n",
       "      <td>2</td>\n",
       "    </tr>\n",
       "    <tr>\n",
       "      <th>2</th>\n",
       "      <td>563</td>\n",
       "      <td>1</td>\n",
       "      <td>0.5</td>\n",
       "      <td>1</td>\n",
       "      <td>2</td>\n",
       "      <td>1</td>\n",
       "      <td>41</td>\n",
       "      <td>0.9</td>\n",
       "      <td>145</td>\n",
       "      <td>5</td>\n",
       "      <td>...</td>\n",
       "      <td>1263</td>\n",
       "      <td>1716</td>\n",
       "      <td>2603</td>\n",
       "      <td>11</td>\n",
       "      <td>2</td>\n",
       "      <td>9</td>\n",
       "      <td>1</td>\n",
       "      <td>1</td>\n",
       "      <td>0</td>\n",
       "      <td>2</td>\n",
       "    </tr>\n",
       "    <tr>\n",
       "      <th>3</th>\n",
       "      <td>615</td>\n",
       "      <td>1</td>\n",
       "      <td>2.5</td>\n",
       "      <td>0</td>\n",
       "      <td>0</td>\n",
       "      <td>0</td>\n",
       "      <td>10</td>\n",
       "      <td>0.8</td>\n",
       "      <td>131</td>\n",
       "      <td>6</td>\n",
       "      <td>...</td>\n",
       "      <td>1216</td>\n",
       "      <td>1786</td>\n",
       "      <td>2769</td>\n",
       "      <td>16</td>\n",
       "      <td>8</td>\n",
       "      <td>11</td>\n",
       "      <td>1</td>\n",
       "      <td>0</td>\n",
       "      <td>0</td>\n",
       "      <td>2</td>\n",
       "    </tr>\n",
       "    <tr>\n",
       "      <th>4</th>\n",
       "      <td>1821</td>\n",
       "      <td>1</td>\n",
       "      <td>1.2</td>\n",
       "      <td>0</td>\n",
       "      <td>13</td>\n",
       "      <td>1</td>\n",
       "      <td>44</td>\n",
       "      <td>0.6</td>\n",
       "      <td>141</td>\n",
       "      <td>2</td>\n",
       "      <td>...</td>\n",
       "      <td>1208</td>\n",
       "      <td>1212</td>\n",
       "      <td>1411</td>\n",
       "      <td>8</td>\n",
       "      <td>2</td>\n",
       "      <td>15</td>\n",
       "      <td>1</td>\n",
       "      <td>1</td>\n",
       "      <td>0</td>\n",
       "      <td>1</td>\n",
       "    </tr>\n",
       "  </tbody>\n",
       "</table>\n",
       "<p>5 rows × 21 columns</p>\n",
       "</div>"
      ],
      "text/plain": [
       "   battery_power  blue  clock_speed  dual_sim  fc  four_g  int_memory  m_dep  \\\n",
       "0            842     0          2.2         0   1       0           7    0.6   \n",
       "1           1021     1          0.5         1   0       1          53    0.7   \n",
       "2            563     1          0.5         1   2       1          41    0.9   \n",
       "3            615     1          2.5         0   0       0          10    0.8   \n",
       "4           1821     1          1.2         0  13       1          44    0.6   \n",
       "\n",
       "   mobile_wt  n_cores  ...  px_height  px_width   ram  sc_h  sc_w  talk_time  \\\n",
       "0        188        2  ...         20       756  2549     9     7         19   \n",
       "1        136        3  ...        905      1988  2631    17     3          7   \n",
       "2        145        5  ...       1263      1716  2603    11     2          9   \n",
       "3        131        6  ...       1216      1786  2769    16     8         11   \n",
       "4        141        2  ...       1208      1212  1411     8     2         15   \n",
       "\n",
       "   three_g  touch_screen  wifi  price_range  \n",
       "0        0             0     1            1  \n",
       "1        1             1     0            2  \n",
       "2        1             1     0            2  \n",
       "3        1             0     0            2  \n",
       "4        1             1     0            1  \n",
       "\n",
       "[5 rows x 21 columns]"
      ]
     },
     "execution_count": 2,
     "metadata": {},
     "output_type": "execute_result"
    }
   ],
   "source": [
    "import numpy as np\n",
    "import pandas as pd\n",
    "from sklearn import ensemble\n",
    "from sklearn import metrics\n",
    "from sklearn import model_selection\n",
    "df = pd.read_csv(\"input/mobile_train.csv\")\n",
    "df.head()"
   ]
  },
  {
   "cell_type": "markdown",
   "metadata": {},
   "source": [
    "Code for implementing ><b>Grid Search</b>\n",
    "I am using small no.of combination inorder to reduce the execution time."
   ]
  },
  {
   "cell_type": "code",
   "execution_count": 5,
   "metadata": {},
   "outputs": [
    {
     "name": "stdout",
     "output_type": "stream",
     "text": [
      "Fitting 5 folds for each of 18 candidates, totalling 90 fits\n",
      "[CV] criterion=gini, max_depth=1, n_estimators=100 ...................\n"
     ]
    },
    {
     "name": "stderr",
     "output_type": "stream",
     "text": [
      "[Parallel(n_jobs=1)]: Using backend SequentialBackend with 1 concurrent workers.\n"
     ]
    },
    {
     "name": "stdout",
     "output_type": "stream",
     "text": [
      "[CV]  criterion=gini, max_depth=1, n_estimators=100, score=0.580, total=   3.4s\n",
      "[CV] criterion=gini, max_depth=1, n_estimators=100 ...................\n"
     ]
    },
    {
     "name": "stderr",
     "output_type": "stream",
     "text": [
      "[Parallel(n_jobs=1)]: Done   1 out of   1 | elapsed:    3.3s remaining:    0.0s\n"
     ]
    },
    {
     "name": "stdout",
     "output_type": "stream",
     "text": [
      "[CV]  criterion=gini, max_depth=1, n_estimators=100, score=0.575, total=   0.3s\n",
      "[CV] criterion=gini, max_depth=1, n_estimators=100 ...................\n"
     ]
    },
    {
     "name": "stderr",
     "output_type": "stream",
     "text": [
      "[Parallel(n_jobs=1)]: Done   2 out of   2 | elapsed:    3.6s remaining:    0.0s\n"
     ]
    },
    {
     "name": "stdout",
     "output_type": "stream",
     "text": [
      "[CV]  criterion=gini, max_depth=1, n_estimators=100, score=0.630, total=   0.3s\n",
      "[CV] criterion=gini, max_depth=1, n_estimators=100 ...................\n"
     ]
    },
    {
     "name": "stderr",
     "output_type": "stream",
     "text": [
      "[Parallel(n_jobs=1)]: Done   3 out of   3 | elapsed:    3.9s remaining:    0.0s\n"
     ]
    },
    {
     "name": "stdout",
     "output_type": "stream",
     "text": [
      "[CV]  criterion=gini, max_depth=1, n_estimators=100, score=0.557, total=   0.3s\n",
      "[CV] criterion=gini, max_depth=1, n_estimators=100 ...................\n"
     ]
    },
    {
     "name": "stderr",
     "output_type": "stream",
     "text": [
      "[Parallel(n_jobs=1)]: Done   4 out of   4 | elapsed:    4.2s remaining:    0.0s\n"
     ]
    },
    {
     "name": "stdout",
     "output_type": "stream",
     "text": [
      "[CV]  criterion=gini, max_depth=1, n_estimators=100, score=0.532, total=   0.3s\n",
      "[CV] criterion=gini, max_depth=1, n_estimators=200 ...................\n"
     ]
    },
    {
     "name": "stderr",
     "output_type": "stream",
     "text": [
      "[Parallel(n_jobs=1)]: Done   5 out of   5 | elapsed:    4.5s remaining:    0.0s\n"
     ]
    },
    {
     "name": "stdout",
     "output_type": "stream",
     "text": [
      "[CV]  criterion=gini, max_depth=1, n_estimators=200, score=0.598, total=   0.4s\n",
      "[CV] criterion=gini, max_depth=1, n_estimators=200 ...................\n"
     ]
    },
    {
     "name": "stderr",
     "output_type": "stream",
     "text": [
      "[Parallel(n_jobs=1)]: Done   6 out of   6 | elapsed:    4.9s remaining:    0.0s\n"
     ]
    },
    {
     "name": "stdout",
     "output_type": "stream",
     "text": [
      "[CV]  criterion=gini, max_depth=1, n_estimators=200, score=0.600, total=   0.4s\n",
      "[CV] criterion=gini, max_depth=1, n_estimators=200 ...................\n"
     ]
    },
    {
     "name": "stderr",
     "output_type": "stream",
     "text": [
      "[Parallel(n_jobs=1)]: Done   7 out of   7 | elapsed:    5.3s remaining:    0.0s\n"
     ]
    },
    {
     "name": "stdout",
     "output_type": "stream",
     "text": [
      "[CV]  criterion=gini, max_depth=1, n_estimators=200, score=0.593, total=   0.5s\n",
      "[CV] criterion=gini, max_depth=1, n_estimators=200 ...................\n"
     ]
    },
    {
     "name": "stderr",
     "output_type": "stream",
     "text": [
      "[Parallel(n_jobs=1)]: Done   8 out of   8 | elapsed:    5.8s remaining:    0.0s\n"
     ]
    },
    {
     "name": "stdout",
     "output_type": "stream",
     "text": [
      "[CV]  criterion=gini, max_depth=1, n_estimators=200, score=0.555, total=   0.4s\n",
      "[CV] criterion=gini, max_depth=1, n_estimators=200 ...................\n"
     ]
    },
    {
     "name": "stderr",
     "output_type": "stream",
     "text": [
      "[Parallel(n_jobs=1)]: Done   9 out of   9 | elapsed:    6.2s remaining:    0.0s\n"
     ]
    },
    {
     "name": "stdout",
     "output_type": "stream",
     "text": [
      "[CV]  criterion=gini, max_depth=1, n_estimators=200, score=0.595, total=   0.4s\n",
      "[CV] criterion=gini, max_depth=1, n_estimators=250 ...................\n",
      "[CV]  criterion=gini, max_depth=1, n_estimators=250, score=0.593, total=   0.5s\n",
      "[CV] criterion=gini, max_depth=1, n_estimators=250 ...................\n",
      "[CV]  criterion=gini, max_depth=1, n_estimators=250, score=0.595, total=   0.5s\n",
      "[CV] criterion=gini, max_depth=1, n_estimators=250 ...................\n",
      "[CV]  criterion=gini, max_depth=1, n_estimators=250, score=0.618, total=   0.4s\n",
      "[CV] criterion=gini, max_depth=1, n_estimators=250 ...................\n",
      "[CV]  criterion=gini, max_depth=1, n_estimators=250, score=0.613, total=   0.5s\n",
      "[CV] criterion=gini, max_depth=1, n_estimators=250 ...................\n",
      "[CV]  criterion=gini, max_depth=1, n_estimators=250, score=0.595, total=   0.4s\n",
      "[CV] criterion=gini, max_depth=2, n_estimators=100 ...................\n",
      "[CV]  criterion=gini, max_depth=2, n_estimators=100, score=0.750, total=   0.3s\n",
      "[CV] criterion=gini, max_depth=2, n_estimators=100 ...................\n",
      "[CV]  criterion=gini, max_depth=2, n_estimators=100, score=0.730, total=   0.3s\n",
      "[CV] criterion=gini, max_depth=2, n_estimators=100 ...................\n",
      "[CV]  criterion=gini, max_depth=2, n_estimators=100, score=0.770, total=   0.3s\n",
      "[CV] criterion=gini, max_depth=2, n_estimators=100 ...................\n",
      "[CV]  criterion=gini, max_depth=2, n_estimators=100, score=0.720, total=   0.3s\n",
      "[CV] criterion=gini, max_depth=2, n_estimators=100 ...................\n",
      "[CV]  criterion=gini, max_depth=2, n_estimators=100, score=0.738, total=   0.3s\n",
      "[CV] criterion=gini, max_depth=2, n_estimators=200 ...................\n",
      "[CV]  criterion=gini, max_depth=2, n_estimators=200, score=0.767, total=   0.4s\n",
      "[CV] criterion=gini, max_depth=2, n_estimators=200 ...................\n",
      "[CV]  criterion=gini, max_depth=2, n_estimators=200, score=0.748, total=   0.5s\n",
      "[CV] criterion=gini, max_depth=2, n_estimators=200 ...................\n",
      "[CV]  criterion=gini, max_depth=2, n_estimators=200, score=0.760, total=   0.4s\n",
      "[CV] criterion=gini, max_depth=2, n_estimators=200 ...................\n",
      "[CV]  criterion=gini, max_depth=2, n_estimators=200, score=0.777, total=   0.4s\n",
      "[CV] criterion=gini, max_depth=2, n_estimators=200 ...................\n",
      "[CV]  criterion=gini, max_depth=2, n_estimators=200, score=0.745, total=   0.4s\n",
      "[CV] criterion=gini, max_depth=2, n_estimators=250 ...................\n",
      "[CV]  criterion=gini, max_depth=2, n_estimators=250, score=0.772, total=   0.5s\n",
      "[CV] criterion=gini, max_depth=2, n_estimators=250 ...................\n",
      "[CV]  criterion=gini, max_depth=2, n_estimators=250, score=0.713, total=   0.5s\n",
      "[CV] criterion=gini, max_depth=2, n_estimators=250 ...................\n",
      "[CV]  criterion=gini, max_depth=2, n_estimators=250, score=0.795, total=   0.5s\n",
      "[CV] criterion=gini, max_depth=2, n_estimators=250 ...................\n",
      "[CV]  criterion=gini, max_depth=2, n_estimators=250, score=0.777, total=   0.5s\n",
      "[CV] criterion=gini, max_depth=2, n_estimators=250 ...................\n",
      "[CV]  criterion=gini, max_depth=2, n_estimators=250, score=0.743, total=   0.5s\n",
      "[CV] criterion=gini, max_depth=5, n_estimators=100 ...................\n",
      "[CV]  criterion=gini, max_depth=5, n_estimators=100, score=0.828, total=   0.3s\n",
      "[CV] criterion=gini, max_depth=5, n_estimators=100 ...................\n",
      "[CV]  criterion=gini, max_depth=5, n_estimators=100, score=0.838, total=   0.3s\n",
      "[CV] criterion=gini, max_depth=5, n_estimators=100 ...................\n",
      "[CV]  criterion=gini, max_depth=5, n_estimators=100, score=0.865, total=   0.3s\n",
      "[CV] criterion=gini, max_depth=5, n_estimators=100 ...................\n",
      "[CV]  criterion=gini, max_depth=5, n_estimators=100, score=0.843, total=   0.4s\n",
      "[CV] criterion=gini, max_depth=5, n_estimators=100 ...................\n",
      "[CV]  criterion=gini, max_depth=5, n_estimators=100, score=0.820, total=   0.4s\n",
      "[CV] criterion=gini, max_depth=5, n_estimators=200 ...................\n",
      "[CV]  criterion=gini, max_depth=5, n_estimators=200, score=0.828, total=   0.5s\n",
      "[CV] criterion=gini, max_depth=5, n_estimators=200 ...................\n",
      "[CV]  criterion=gini, max_depth=5, n_estimators=200, score=0.840, total=   0.4s\n",
      "[CV] criterion=gini, max_depth=5, n_estimators=200 ...................\n",
      "[CV]  criterion=gini, max_depth=5, n_estimators=200, score=0.868, total=   0.5s\n",
      "[CV] criterion=gini, max_depth=5, n_estimators=200 ...................\n",
      "[CV]  criterion=gini, max_depth=5, n_estimators=200, score=0.838, total=   0.5s\n",
      "[CV] criterion=gini, max_depth=5, n_estimators=200 ...................\n",
      "[CV]  criterion=gini, max_depth=5, n_estimators=200, score=0.818, total=   0.5s\n",
      "[CV] criterion=gini, max_depth=5, n_estimators=250 ...................\n",
      "[CV]  criterion=gini, max_depth=5, n_estimators=250, score=0.833, total=   0.6s\n",
      "[CV] criterion=gini, max_depth=5, n_estimators=250 ...................\n",
      "[CV]  criterion=gini, max_depth=5, n_estimators=250, score=0.855, total=   0.7s\n",
      "[CV] criterion=gini, max_depth=5, n_estimators=250 ...................\n",
      "[CV]  criterion=gini, max_depth=5, n_estimators=250, score=0.855, total=   0.5s\n",
      "[CV] criterion=gini, max_depth=5, n_estimators=250 ...................\n",
      "[CV]  criterion=gini, max_depth=5, n_estimators=250, score=0.830, total=   0.5s\n",
      "[CV] criterion=gini, max_depth=5, n_estimators=250 ...................\n",
      "[CV]  criterion=gini, max_depth=5, n_estimators=250, score=0.818, total=   0.5s\n",
      "[CV] criterion=entropy, max_depth=1, n_estimators=100 ................\n",
      "[CV]  criterion=entropy, max_depth=1, n_estimators=100, score=0.583, total=   0.3s\n",
      "[CV] criterion=entropy, max_depth=1, n_estimators=100 ................\n",
      "[CV]  criterion=entropy, max_depth=1, n_estimators=100, score=0.542, total=   0.3s\n",
      "[CV] criterion=entropy, max_depth=1, n_estimators=100 ................\n",
      "[CV]  criterion=entropy, max_depth=1, n_estimators=100, score=0.542, total=   0.3s\n",
      "[CV] criterion=entropy, max_depth=1, n_estimators=100 ................\n",
      "[CV]  criterion=entropy, max_depth=1, n_estimators=100, score=0.535, total=   0.4s\n",
      "[CV] criterion=entropy, max_depth=1, n_estimators=100 ................\n",
      "[CV]  criterion=entropy, max_depth=1, n_estimators=100, score=0.535, total=   0.3s\n",
      "[CV] criterion=entropy, max_depth=1, n_estimators=200 ................\n",
      "[CV]  criterion=entropy, max_depth=1, n_estimators=200, score=0.568, total=   0.4s\n",
      "[CV] criterion=entropy, max_depth=1, n_estimators=200 ................\n",
      "[CV]  criterion=entropy, max_depth=1, n_estimators=200, score=0.562, total=   0.4s\n",
      "[CV] criterion=entropy, max_depth=1, n_estimators=200 ................\n",
      "[CV]  criterion=entropy, max_depth=1, n_estimators=200, score=0.550, total=   0.4s\n",
      "[CV] criterion=entropy, max_depth=1, n_estimators=200 ................\n",
      "[CV]  criterion=entropy, max_depth=1, n_estimators=200, score=0.535, total=   0.4s\n",
      "[CV] criterion=entropy, max_depth=1, n_estimators=200 ................\n",
      "[CV]  criterion=entropy, max_depth=1, n_estimators=200, score=0.547, total=   0.4s\n",
      "[CV] criterion=entropy, max_depth=1, n_estimators=250 ................\n",
      "[CV]  criterion=entropy, max_depth=1, n_estimators=250, score=0.588, total=   0.5s\n",
      "[CV] criterion=entropy, max_depth=1, n_estimators=250 ................\n",
      "[CV]  criterion=entropy, max_depth=1, n_estimators=250, score=0.560, total=   0.6s\n",
      "[CV] criterion=entropy, max_depth=1, n_estimators=250 ................\n",
      "[CV]  criterion=entropy, max_depth=1, n_estimators=250, score=0.530, total=   0.5s\n",
      "[CV] criterion=entropy, max_depth=1, n_estimators=250 ................\n",
      "[CV]  criterion=entropy, max_depth=1, n_estimators=250, score=0.562, total=   0.5s\n",
      "[CV] criterion=entropy, max_depth=1, n_estimators=250 ................\n",
      "[CV]  criterion=entropy, max_depth=1, n_estimators=250, score=0.562, total=   0.5s\n",
      "[CV] criterion=entropy, max_depth=2, n_estimators=100 ................\n",
      "[CV]  criterion=entropy, max_depth=2, n_estimators=100, score=0.615, total=   0.4s\n",
      "[CV] criterion=entropy, max_depth=2, n_estimators=100 ................\n",
      "[CV]  criterion=entropy, max_depth=2, n_estimators=100, score=0.718, total=   0.4s\n",
      "[CV] criterion=entropy, max_depth=2, n_estimators=100 ................\n",
      "[CV]  criterion=entropy, max_depth=2, n_estimators=100, score=0.693, total=   0.4s\n",
      "[CV] criterion=entropy, max_depth=2, n_estimators=100 ................\n"
     ]
    },
    {
     "name": "stdout",
     "output_type": "stream",
     "text": [
      "[CV]  criterion=entropy, max_depth=2, n_estimators=100, score=0.655, total=   0.3s\n",
      "[CV] criterion=entropy, max_depth=2, n_estimators=100 ................\n",
      "[CV]  criterion=entropy, max_depth=2, n_estimators=100, score=0.637, total=   0.3s\n",
      "[CV] criterion=entropy, max_depth=2, n_estimators=200 ................\n",
      "[CV]  criterion=entropy, max_depth=2, n_estimators=200, score=0.677, total=   0.4s\n",
      "[CV] criterion=entropy, max_depth=2, n_estimators=200 ................\n",
      "[CV]  criterion=entropy, max_depth=2, n_estimators=200, score=0.657, total=   0.5s\n",
      "[CV] criterion=entropy, max_depth=2, n_estimators=200 ................\n",
      "[CV]  criterion=entropy, max_depth=2, n_estimators=200, score=0.695, total=   0.5s\n",
      "[CV] criterion=entropy, max_depth=2, n_estimators=200 ................\n",
      "[CV]  criterion=entropy, max_depth=2, n_estimators=200, score=0.767, total=   0.5s\n",
      "[CV] criterion=entropy, max_depth=2, n_estimators=200 ................\n",
      "[CV]  criterion=entropy, max_depth=2, n_estimators=200, score=0.682, total=   0.5s\n",
      "[CV] criterion=entropy, max_depth=2, n_estimators=250 ................\n",
      "[CV]  criterion=entropy, max_depth=2, n_estimators=250, score=0.713, total=   0.5s\n",
      "[CV] criterion=entropy, max_depth=2, n_estimators=250 ................\n",
      "[CV]  criterion=entropy, max_depth=2, n_estimators=250, score=0.665, total=   0.5s\n",
      "[CV] criterion=entropy, max_depth=2, n_estimators=250 ................\n",
      "[CV]  criterion=entropy, max_depth=2, n_estimators=250, score=0.680, total=   0.5s\n",
      "[CV] criterion=entropy, max_depth=2, n_estimators=250 ................\n",
      "[CV]  criterion=entropy, max_depth=2, n_estimators=250, score=0.713, total=   0.7s\n",
      "[CV] criterion=entropy, max_depth=2, n_estimators=250 ................\n",
      "[CV]  criterion=entropy, max_depth=2, n_estimators=250, score=0.703, total=   0.5s\n",
      "[CV] criterion=entropy, max_depth=5, n_estimators=100 ................\n",
      "[CV]  criterion=entropy, max_depth=5, n_estimators=100, score=0.833, total=   0.4s\n",
      "[CV] criterion=entropy, max_depth=5, n_estimators=100 ................\n",
      "[CV]  criterion=entropy, max_depth=5, n_estimators=100, score=0.835, total=   0.4s\n",
      "[CV] criterion=entropy, max_depth=5, n_estimators=100 ................\n",
      "[CV]  criterion=entropy, max_depth=5, n_estimators=100, score=0.853, total=   0.4s\n",
      "[CV] criterion=entropy, max_depth=5, n_estimators=100 ................\n",
      "[CV]  criterion=entropy, max_depth=5, n_estimators=100, score=0.843, total=   0.4s\n",
      "[CV] criterion=entropy, max_depth=5, n_estimators=100 ................\n",
      "[CV]  criterion=entropy, max_depth=5, n_estimators=100, score=0.848, total=   0.4s\n",
      "[CV] criterion=entropy, max_depth=5, n_estimators=200 ................\n",
      "[CV]  criterion=entropy, max_depth=5, n_estimators=200, score=0.835, total=   0.5s\n",
      "[CV] criterion=entropy, max_depth=5, n_estimators=200 ................\n",
      "[CV]  criterion=entropy, max_depth=5, n_estimators=200, score=0.848, total=   0.5s\n",
      "[CV] criterion=entropy, max_depth=5, n_estimators=200 ................\n",
      "[CV]  criterion=entropy, max_depth=5, n_estimators=200, score=0.870, total=   0.7s\n",
      "[CV] criterion=entropy, max_depth=5, n_estimators=200 ................\n",
      "[CV]  criterion=entropy, max_depth=5, n_estimators=200, score=0.828, total=   0.5s\n",
      "[CV] criterion=entropy, max_depth=5, n_estimators=200 ................\n",
      "[CV]  criterion=entropy, max_depth=5, n_estimators=200, score=0.833, total=   0.6s\n",
      "[CV] criterion=entropy, max_depth=5, n_estimators=250 ................\n",
      "[CV]  criterion=entropy, max_depth=5, n_estimators=250, score=0.830, total=   0.7s\n",
      "[CV] criterion=entropy, max_depth=5, n_estimators=250 ................\n",
      "[CV]  criterion=entropy, max_depth=5, n_estimators=250, score=0.838, total=   0.6s\n",
      "[CV] criterion=entropy, max_depth=5, n_estimators=250 ................\n",
      "[CV]  criterion=entropy, max_depth=5, n_estimators=250, score=0.863, total=   0.6s\n",
      "[CV] criterion=entropy, max_depth=5, n_estimators=250 ................\n",
      "[CV]  criterion=entropy, max_depth=5, n_estimators=250, score=0.833, total=   0.6s\n",
      "[CV] criterion=entropy, max_depth=5, n_estimators=250 ................\n",
      "[CV]  criterion=entropy, max_depth=5, n_estimators=250, score=0.830, total=   0.6s\n"
     ]
    },
    {
     "name": "stderr",
     "output_type": "stream",
     "text": [
      "[Parallel(n_jobs=1)]: Done  90 out of  90 | elapsed:   43.1s finished\n"
     ]
    },
    {
     "name": "stdout",
     "output_type": "stream",
     "text": [
      "Best Score: 0.8425\n",
      "Best prrmeter set:\n",
      "\tcriterion:entropy\n",
      "\tmax_depth:5\n",
      "\tn_estimators:200\n"
     ]
    }
   ],
   "source": [
    "if __name__ == \"__main__\":\n",
    "    df = pd.read_csv(\"input/mobile_train.csv\")\n",
    "    X = df.drop(\"price_range\",axis=1).values\n",
    "    y = df.price_range.values\n",
    "    \n",
    "    classifier = ensemble.RandomForestClassifier(n_jobs=-1)\n",
    "    \n",
    "    param_grid = {\n",
    "        \"n_estimators\":[100,200,250],\n",
    "        \"max_depth\":[1,2,5],\n",
    "        \"criterion\":['gini','entropy']\n",
    "    }\n",
    "    \n",
    "    model = model_selection.GridSearchCV(\n",
    "        estimator = classifier,\n",
    "        param_grid = param_grid,\n",
    "        scoring = \"accuracy\",\n",
    "        verbose=10,\n",
    "        n_jobs=1,\n",
    "        cv=5\n",
    "    )\n",
    "    \n",
    "    model.fit(X,y)\n",
    "    print(f\"Best Score: {model.best_score_}\")\n",
    "    print(\"Best prrmeter set:\")\n",
    "    best_parameters = model.best_estimator_.get_params()\n",
    "    for param_name in sorted(param_grid.keys()):\n",
    "        print(f\"\\t{param_name}:{best_parameters[param_name]}\")\n",
    "    "
   ]
  },
  {
   "cell_type": "code",
   "execution_count": null,
   "metadata": {},
   "outputs": [],
   "source": []
  }
 ],
 "metadata": {
  "kernelspec": {
   "display_name": "deep_learning",
   "language": "python",
   "name": "deep_learning"
  },
  "language_info": {
   "codemirror_mode": {
    "name": "ipython",
    "version": 3
   },
   "file_extension": ".py",
   "mimetype": "text/x-python",
   "name": "python",
   "nbconvert_exporter": "python",
   "pygments_lexer": "ipython3",
   "version": "3.7.7"
  }
 },
 "nbformat": 4,
 "nbformat_minor": 4
}
