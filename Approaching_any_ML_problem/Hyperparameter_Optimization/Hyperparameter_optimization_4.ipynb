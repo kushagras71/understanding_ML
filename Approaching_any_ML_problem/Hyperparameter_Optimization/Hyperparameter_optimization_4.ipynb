{
 "cells": [
  {
   "cell_type": "markdown",
   "metadata": {},
   "source": [
    "<b>Advanced Hyper-parameters Optimization</b>: minization of functions\n",
    "Using <b>Bayesian optimization with Gussian Process</b>.\n"
   ]
  },
  {
   "cell_type": "code",
   "execution_count": 2,
   "metadata": {},
   "outputs": [],
   "source": [
    "import numpy as np\n",
    "import pandas as pd\n",
    "from functools import partial\n",
    "from sklearn import ensemble\n",
    "from sklearn import metrics\n",
    "from sklearn import model_selection\n",
    "from skopt import gp_minimize\n",
    "from skopt import space"
   ]
  },
  {
   "cell_type": "code",
   "execution_count": 6,
   "metadata": {},
   "outputs": [
    {
     "name": "stdout",
     "output_type": "stream",
     "text": [
      "Iteration No: 1 started. Evaluating function at random point.\n",
      "Iteration No: 1 ended. Evaluation done at random point.\n",
      "Time taken: 2.6512\n",
      "Function value obtained: -0.7480\n",
      "Current minimum: -0.7480\n",
      "Iteration No: 2 started. Evaluating function at random point.\n",
      "Iteration No: 2 ended. Evaluation done at random point.\n",
      "Time taken: 10.2251\n",
      "Function value obtained: -0.9105\n",
      "Current minimum: -0.9105\n",
      "Iteration No: 3 started. Evaluating function at random point.\n",
      "Iteration No: 3 ended. Evaluation done at random point.\n",
      "Time taken: 3.0064\n",
      "Function value obtained: -0.8550\n",
      "Current minimum: -0.9105\n",
      "Iteration No: 4 started. Evaluating function at random point.\n",
      "Iteration No: 4 ended. Evaluation done at random point.\n",
      "Time taken: 7.8102\n",
      "Function value obtained: -0.7000\n",
      "Current minimum: -0.9105\n",
      "Iteration No: 5 started. Evaluating function at random point.\n",
      "Iteration No: 5 ended. Evaluation done at random point.\n",
      "Time taken: 11.4262\n",
      "Function value obtained: -0.8330\n",
      "Current minimum: -0.9105\n",
      "Iteration No: 6 started. Evaluating function at random point.\n",
      "Iteration No: 6 ended. Evaluation done at random point.\n",
      "Time taken: 9.4665\n",
      "Function value obtained: -0.8715\n",
      "Current minimum: -0.9105\n",
      "Iteration No: 7 started. Evaluating function at random point.\n",
      "Iteration No: 7 ended. Evaluation done at random point.\n",
      "Time taken: 4.6129\n",
      "Function value obtained: -0.7720\n",
      "Current minimum: -0.9105\n",
      "Iteration No: 8 started. Evaluating function at random point.\n",
      "Iteration No: 8 ended. Evaluation done at random point.\n",
      "Time taken: 10.6695\n",
      "Function value obtained: -0.8975\n",
      "Current minimum: -0.9105\n",
      "Iteration No: 9 started. Evaluating function at random point.\n",
      "Iteration No: 9 ended. Evaluation done at random point.\n",
      "Time taken: 4.9881\n",
      "Function value obtained: -0.9005\n",
      "Current minimum: -0.9105\n",
      "Iteration No: 10 started. Evaluating function at random point.\n",
      "Iteration No: 10 ended. Evaluation done at random point.\n",
      "Time taken: 23.1066\n",
      "Function value obtained: -0.8770\n",
      "Current minimum: -0.9105\n",
      "Iteration No: 11 started. Searching for the next optimal point.\n",
      "Iteration No: 11 ended. Search finished for the next optimal point.\n",
      "Time taken: 9.1085\n",
      "Function value obtained: -0.7930\n",
      "Current minimum: -0.9105\n",
      "Iteration No: 12 started. Searching for the next optimal point.\n",
      "Iteration No: 12 ended. Search finished for the next optimal point.\n",
      "Time taken: 3.3411\n",
      "Function value obtained: -0.9005\n",
      "Current minimum: -0.9105\n",
      "Iteration No: 13 started. Searching for the next optimal point.\n",
      "Iteration No: 13 ended. Search finished for the next optimal point.\n",
      "Time taken: 9.0522\n",
      "Function value obtained: -0.9090\n",
      "Current minimum: -0.9105\n",
      "Iteration No: 14 started. Searching for the next optimal point.\n",
      "Iteration No: 14 ended. Search finished for the next optimal point.\n",
      "Time taken: 19.6711\n",
      "Function value obtained: -0.7665\n",
      "Current minimum: -0.9105\n",
      "Iteration No: 15 started. Searching for the next optimal point.\n",
      "Iteration No: 15 ended. Search finished for the next optimal point.\n",
      "Time taken: 11.6726\n",
      "Function value obtained: -0.9065\n",
      "Current minimum: -0.9105\n",
      "{'max_depth': 15, 'n_estimators': 326, 'criterion': 'entropy', 'max_features': 0.6327373685349055}\n"
     ]
    }
   ],
   "source": [
    "def optimize(params,param_names,x,y):\n",
    "    params = dict(zip(param_names,params))\n",
    "    model = ensemble.RandomForestClassifier(**params)\n",
    "    kf = model_selection.StratifiedKFold(n_splits=5)\n",
    "    accuracies = []\n",
    "    for idx in kf.split(X=x,y=y):\n",
    "        train_idx, test_idx = idx[0], idx[1]\n",
    "        xtrain = x[train_idx]\n",
    "        ytrain = y[train_idx]\n",
    "        xtest = x[test_idx]\n",
    "        ytest = y[test_idx]\n",
    "        # fit model for current fold\n",
    "        model.fit(xtrain, ytrain)\n",
    "        #create predictions\n",
    "        preds = model.predict(xtest)\n",
    "        # calculate and append accuracy\n",
    "        fold_accuracy = metrics.accuracy_score(\n",
    "        ytest,\n",
    "        preds\n",
    "        )\n",
    "        accuracies.append(fold_accuracy)\n",
    "    # return negative accuracy\n",
    "    return -1 * np.mean(accuracies)\n",
    "\n",
    "if __name__ == \"__main__\":\n",
    "    df = pd.read_csv(\"input/mobile_train.csv\")\n",
    "    X = df.drop(\"price_range\",axis=1).values\n",
    "    y = df.price_range.values\n",
    "    param_space = [\n",
    "        space.Integer(3,15,name=\"max_depth\"),\n",
    "        space.Integer(100,1500,name=\"n_estimators\"),\n",
    "        space.Categorical(['gini','entropy'],name=\"criterion\"),\n",
    "        space.Real(0.01,1,prior=\"uniform\",name=\"max_features\"),\n",
    "    ]\n",
    "    param_names = [\n",
    "        \"max_depth\",\n",
    "        \"n_estimators\",\n",
    "        \"criterion\",\n",
    "        \"max_features\"\n",
    "        ]\n",
    "    optimization_function = partial(\n",
    "        optimize,\n",
    "        param_names=param_names,\n",
    "        x=X,\n",
    "        y=y\n",
    "        )\n",
    "    result = gp_minimize(\n",
    "        optimization_function,\n",
    "        dimensions=param_space,\n",
    "        n_calls=15,\n",
    "        n_random_starts=10,\n",
    "        verbose=10\n",
    "        )\n",
    "    best_params = dict(\n",
    "        zip(\n",
    "            param_names,\n",
    "            result.x\n",
    "            )\n",
    "        )\n",
    "    print(best_params)\n"
   ]
  },
  {
   "cell_type": "code",
   "execution_count": 7,
   "metadata": {},
   "outputs": [
    {
     "data": {
      "text/plain": [
       "<matplotlib.axes._subplots.AxesSubplot at 0x1c6e53af048>"
      ]
     },
     "execution_count": 7,
     "metadata": {},
     "output_type": "execute_result"
    },
    {
     "data": {
      "image/png": "[encoded data removed]",
      "text/plain": [
       "<Figure size 432x288 with 1 Axes>"
      ]
     },
     "metadata": {
      "needs_background": "light"
     },
     "output_type": "display_data"
    }
   ],
   "source": [
    "from skopt.plots import plot_convergence\n",
    "plot_convergence(result)"
   ]
  },
  {
   "cell_type": "markdown",
   "metadata": {},
   "source": [
    "There are various libraries for hyper-parameter optimization.\n",
    "1. Scikit-optimize - used here  \n",
    "2. hyperopt - Tree structured Parzen Estimator (TPE)\n"
   ]
  },
  {
   "cell_type": "code",
   "execution_count": null,
   "metadata": {},
   "outputs": [],
   "source": []
  }
 ],
 "metadata": {
  "kernelspec": {
   "display_name": "deep_learning",
   "language": "python",
   "name": "deep_learning"
  },
  "language_info": {
   "codemirror_mode": {
    "name": "ipython",
    "version": 3
   },
   "file_extension": ".py",
   "mimetype": "text/x-python",
   "name": "python",
   "nbconvert_exporter": "python",
   "pygments_lexer": "ipython3",
   "version": "3.7.7"
  }
 },
 "nbformat": 4,
 "nbformat_minor": 4
}
