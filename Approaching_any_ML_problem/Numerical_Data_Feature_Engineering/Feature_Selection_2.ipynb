{
 "cells": [
  {
   "cell_type": "markdown",
   "metadata": {},
   "source": [
    "<b>Feature Selection using Machine Learning Model</b><br>\n",
    "Simplest Form:<br>\n",
    "  Greedy Feature Selection"
   ]
  },
  {
   "cell_type": "code",
   "execution_count": 1,
   "metadata": {},
   "outputs": [],
   "source": [
    "import pandas as pd\n",
    "from sklearn import linear_model\n",
    "from sklearn import metrics\n",
    "from sklearn.datasets import make_classification"
   ]
  },
  {
   "cell_type": "code",
   "execution_count": null,
   "metadata": {},
   "outputs": [],
   "source": [
    "class GreedyFeatureSelection:\n",
    "    def evaluate_score(self,X,y):\n",
    "        model = linear_model.LogisticRegression()\n",
    "        model.fit(X,y)\n",
    "        predictions = model.predict_proba(X)[:,1]\n",
    "        auc = metrics.roc_auc_score(y,predictions)\n",
    "        return auc \n",
    "    def _feature_selection(self,X,y):\n",
    "        good_features = []\n",
    "        best_scores = []\n",
    "        num_features = X.shape[1]\n",
    "        while True:\n",
    "            this_feature = None\n",
    "            best_score = 0\n",
    "            for feature in range(num_features):\n",
    "                if feature in good_features:\n",
    "                    continue\n",
    "                selected_features = good_features + [feature]\n",
    "                xtrain = X[:,selected_features]\n",
    "                score = self.evaluate_score(xtrain, y)\n",
    "                if score > best_score:\n",
    "                    this_feature = feature\n",
    "                    best_score = score\n",
    "                if this_feature != None:\n",
    "                    good_features.append(this_feature)\n",
    "                    best_scores.append(best_score)\n",
    "                if len(best_scores) > 2 :\n",
    "                    if best_scores[-1] < best_scores[-2]:\n",
    "                        break\n",
    "        return best_score[:-1] < good_features[:-1]\n",
    "    def __call__(self,X,y):\n",
    "        scores, features = self._feature_selection(X,y)\n",
    "        return X[:,features],scores\n",
    "if __name__ == \"__main__\":\n",
    "    X,y = make_classification(n_samples=1000,n_features=100)\n",
    "    X_tranformed,score = GreedyFeatureSelection()(X,y)"
   ]
  },
  {
   "cell_type": "markdown",
   "metadata": {},
   "source": [
    "Another Greedy Approach <b>Recursive Feature Elimination (RFE).</b>"
   ]
  },
  {
   "cell_type": "code",
   "execution_count": null,
   "metadata": {},
   "outputs": [],
   "source": [
    "import pandas as pd\n",
    "\n",
    "from sklearn.feature_selection import RFE\n",
    "from sklearn.linear_model import LinearRegression\n",
    "from sklearn.datasets import fetch_california_housing\n",
    "\n",
    "data = fetch_california_housing()\n",
    "X = data['data']\n",
    "col_names = data['feature_name']\n",
    "y = data['target']\n",
    "model = LinearRgression()\n",
    "rfe = RFE(\n",
    "    estimator = model,\n",
    "    n_features_to_select=3\n",
    ")\n",
    "\n",
    "rfe.fit(X,y)\n",
    "\n",
    "X_transformed = rfe.transform()"
   ]
  },
  {
   "cell_type": "code",
   "execution_count": null,
   "metadata": {},
   "outputs": [],
   "source": []
  }
 ],
 "metadata": {
  "kernelspec": {
   "display_name": "deep_learning",
   "language": "python",
   "name": "deep_learning"
  },
  "language_info": {
   "codemirror_mode": {
    "name": "ipython",
    "version": 3
   },
   "file_extension": ".py",
   "mimetype": "text/x-python",
   "name": "python",
   "nbconvert_exporter": "python",
   "pygments_lexer": "ipython3",
   "version": "3.7.7"
  }
 },
 "nbformat": 4,
 "nbformat_minor": 4
}
