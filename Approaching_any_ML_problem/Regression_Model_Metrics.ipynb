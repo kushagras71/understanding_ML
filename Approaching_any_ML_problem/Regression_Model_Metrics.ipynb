{
 "cells": [
  {
   "cell_type": "markdown",
   "metadata": {},
   "source": [
    "# Regression\n",
    "<i> Regression in basically a statistical task used for finding relationship between different attributed within a dataset. Rergression models can be used to predict values based on the unseen attribtes which are similar to the dat on which the model was trained on.</i>\n",
    "\n",
    "<b>Error</b> the most common metric in regression.<br>\n",
    "`Error = True Value - Predicted Value`<br>\n",
    "<br>\n",
    "<b>Absolute error</b><br>\n",
    "`Absolute Error = Abs(True Value - Predicted Value)`<br>"
   ]
  },
  {
   "cell_type": "code",
   "execution_count": 1,
   "metadata": {},
   "outputs": [],
   "source": [
    "import numpy as np"
   ]
  },
  {
   "cell_type": "code",
   "execution_count": 2,
   "metadata": {},
   "outputs": [],
   "source": [
    "def mean_absolute_error(y_true,y_pred):\n",
    "    error = 0 \n",
    "    for yt, yp in zip(y_true,y_pred):\n",
    "        error += np.abs(yt - yp)\n",
    "    return error / len(y_true)"
   ]
  },
  {
   "cell_type": "markdown",
   "metadata": {},
   "source": [
    "<b>Mean Squeared Error (MSE)</b><br>\n",
    "`Squared Error = (True Value - Predicted Value)^2`\n",
    "\n",
    "<b>Root Mean Squeared Error (RMSE)</b><br>\n",
    "`RMSE = sqrt(MSE)`"
   ]
  },
  {
   "cell_type": "code",
   "execution_count": 3,
   "metadata": {},
   "outputs": [],
   "source": [
    "def mean_squared_error(y_true,y_pred):\n",
    "    error = 0\n",
    "    for yt, yp in zip(y_true,y_pred):\n",
    "        error += (yt - yp)**2\n",
    "#       error += (yt - yp) for RMSE\n",
    "        \n",
    "    return error / len(y_true)"
   ]
  },
  {
   "cell_type": "markdown",
   "metadata": {},
   "source": [
    "<i>Another type of error:</i><br>\n",
    "<b>Squared Logarithm error (SLE)</b><br>\n",
    "<b>Mean Squared Logarithm error (MSLE)</b><br>"
   ]
  },
  {
   "cell_type": "code",
   "execution_count": 4,
   "metadata": {},
   "outputs": [],
   "source": [
    "def mean_squared_log_error(y_true,y_pred):\n",
    "    error = 0\n",
    "    for yt, yp in zip(y_true,y_pred):\n",
    "        eror += (np.log(1+yt) - np.log(1+yp))**2\n",
    "    return error / len(y_true)"
   ]
  },
  {
   "cell_type": "markdown",
   "metadata": {},
   "source": [
    "<b>Precentage Error</b><br>\n",
    "`Precentage Error = ((True Value - Predicted Value)/ True Value)*100`"
   ]
  },
  {
   "cell_type": "code",
   "execution_count": 5,
   "metadata": {},
   "outputs": [],
   "source": [
    "def mean_percentage_error(y_true,y_pred):\n",
    "    error = 0\n",
    "    for yt, yp in zip(y_true,y_pred):\n",
    "        error += (yt - yp) / yt\n",
    "    return error / len(y_true)"
   ]
  },
  {
   "cell_type": "markdown",
   "metadata": {},
   "source": [
    "<b>Mean Absolute Precentage Error (MAPE)</b>"
   ]
  },
  {
   "cell_type": "code",
   "execution_count": 6,
   "metadata": {},
   "outputs": [],
   "source": [
    "def mean_abs_precentage_error(y_true,y_pred):\n",
    "    error = 0\n",
    "    for yt, yp in zip(y_true,y_pred):\n",
    "        error += np.abs(yt - yp)/yt\n",
    "    return error / len(y_true)"
   ]
  },
  {
   "cell_type": "markdown",
   "metadata": {},
   "source": [
    "<b>R^2 (R-squared)- coefficient of determination</b><br>\n",
    "<i>R-squared says how good your model fits the data</i>"
   ]
  },
  {
   "cell_type": "code",
   "execution_count": 7,
   "metadata": {},
   "outputs": [],
   "source": [
    "def r2(y_true,y_pred):\n",
    "    mean_true_value = np.mean(y_true)\n",
    "    numerator = 0\n",
    "    denominator = 0\n",
    "    for yt, yp in zip(y_true,y_pred):\n",
    "        numerator += (yt - yp)**2\n",
    "        denominator += (yt - mean_true_value)**2 \n",
    "    ratio = numerator / denominator\n",
    "    return 1 - ratio"
   ]
  },
  {
   "cell_type": "markdown",
   "metadata": {},
   "source": [
    "<b>Quadratic Weighted kappa (QWK) also known as Cohen's kappa</b><br>\n",
    "<i>QWK meaures the \"agreement\" between two \"rating\".</i><br>\n",
    "`QWK above 0.85 is consider very good...`"
   ]
  },
  {
   "cell_type": "code",
   "execution_count": 9,
   "metadata": {},
   "outputs": [
    {
     "name": "stdout",
     "output_type": "stream",
     "text": [
      "0.33333333333333337\n",
      "0.4444444444444444\n"
     ]
    }
   ],
   "source": [
    "from sklearn import metrics\n",
    "y_true = [1,2,3,1,2,3,1,2,3]\n",
    "y_pred = [2,1,3,1,2,3,3,1,2]\n",
    "print(metrics.cohen_kappa_score(y_true,y_pred,weights=\"quadratic\"))\n",
    "print(metrics.accuracy_score(y_true,y_pred))"
   ]
  },
  {
   "cell_type": "markdown",
   "metadata": {},
   "source": []
  },
  {
   "cell_type": "code",
   "execution_count": null,
   "metadata": {},
   "outputs": [],
   "source": []
  }
 ],
 "metadata": {
  "kernelspec": {
   "display_name": "deep_learning",
   "language": "python",
   "name": "deep_learning"
  },
  "language_info": {
   "codemirror_mode": {
    "name": "ipython",
    "version": 3
   },
   "file_extension": ".py",
   "mimetype": "text/x-python",
   "name": "python",
   "nbconvert_exporter": "python",
   "pygments_lexer": "ipython3",
   "version": "3.7.7"
  }
 },
 "nbformat": 4,
 "nbformat_minor": 4
}
