{
 "cells": [
  {
   "cell_type": "markdown",
   "metadata": {},
   "source": [
    "<b>Stemming and Lemmatization</b> reduce a word to its smallest form.\n",
    "<br>\n",
    "<br>Note: It must\n",
    "be noted that lemmatization is more aggressive than stemming and stemming is\n",
    "more popular and widely used.\n",
    "<p></p>\n",
    "<br>\n",
    "NLTK has packages for both stemmer and lemmatizer.<br>\n",
    "Some exampels are: <br>\n",
    "1. Snowball Stemmer <br>\n",
    "2. WordNetLemmatizer"
   ]
  },
  {
   "cell_type": "code",
   "execution_count": 2,
   "metadata": {},
   "outputs": [
    {
     "name": "stderr",
     "output_type": "stream",
     "text": [
      "[nltk_data] Downloading package wordnet to\n",
      "[nltk_data]     C:\\Users\\Kushagra\\AppData\\Roaming\\nltk_data...\n",
      "[nltk_data]   Unzipping corpora\\wordnet.zip.\n"
     ]
    },
    {
     "name": "stdout",
     "output_type": "stream",
     "text": [
      "word=fishing\n",
      "stemmed_word=fish\n",
      "lemma=fishing\n",
      "\n",
      "word=fishes\n",
      "stemmed_word=fish\n",
      "lemma=fish\n",
      "\n",
      "word=fished\n",
      "stemmed_word=fish\n",
      "lemma=fished\n",
      "\n"
     ]
    }
   ],
   "source": [
    "import nltk\n",
    "from nltk.stem import WordNetLemmatizer\n",
    "from nltk.stem.snowball import SnowballStemmer\n",
    "nltk.download('wordnet')\n",
    "lemmatizer = WordNetLemmatizer()\n",
    "stemmer = SnowballStemmer(\"english\")\n",
    "words = ['fishing','fishes','fished']\n",
    "for word in words:\n",
    "    print(f'word={word}')\n",
    "    print(f'stemmed_word={stemmer.stem(word)}')\n",
    "    print(f'lemma={lemmatizer.lemmatize(word)}')\n",
    "    print(\"\")"
   ]
  },
  {
   "cell_type": "markdown",
   "metadata": {},
   "source": [
    "<hr>\n",
    "Stemming and Lemmatization are very different from each other.\n",
    "When we do stemming, we are given the smallest form of a word which may or\n",
    "may not be a word in the dictionary for the language the word belongs to. However,\n",
    "in the case of lemmatization, this will be a word."
   ]
  }
 ],
 "metadata": {
  "kernelspec": {
   "display_name": "deep_learning",
   "language": "python",
   "name": "deep_learning"
  },
  "language_info": {
   "codemirror_mode": {
    "name": "ipython",
    "version": 3
   },
   "file_extension": ".py",
   "mimetype": "text/x-python",
   "name": "python",
   "nbconvert_exporter": "python",
   "pygments_lexer": "ipython3",
   "version": "3.7.7"
  }
 },
 "nbformat": 4,
 "nbformat_minor": 4
}
