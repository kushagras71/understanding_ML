{
 "cells": [
  {
   "cell_type": "markdown",
   "metadata": {},
   "source": [
    "<b>Topic Extraction</b> -  can be done using <i>non-negative matrix factorization (NMF)</i> or <i>latent semantic\n",
    "analysis (LSA)</i>, which is also known as <b>Singular Value Decompoistion (SVD)</b>.<br>\n",
    "These are decomposition techniques that reduce the data to a given number of cmoponents.\n",
    "<p></p>\n",
    "Lets apply <i>TfidfVectorizer</i> to the IMDB dataset."
   ]
  },
  {
   "cell_type": "code",
   "execution_count": 1,
   "metadata": {},
   "outputs": [
    {
     "name": "stdout",
     "output_type": "stream",
     "text": [
      "['the', ',', '.', 'a', 'and']\n"
     ]
    }
   ],
   "source": [
    "import pandas as pd\n",
    "from nltk.tokenize import word_tokenize\n",
    "from sklearn import decomposition\n",
    "from sklearn.feature_extraction.text import TfidfVectorizer\n",
    "\n",
    "corpus = pd.read_csv(\"input/imdb.csv\", nrows=10000)\n",
    "corpus = corpus.review.values\n",
    "\n",
    "tfv = TfidfVectorizer(tokenizer=word_tokenize, token_pattern=None)\n",
    "\n",
    "tfv.fit(corpus)\n",
    "\n",
    "corpus_transformed = tfv.transform(corpus)\n",
    "\n",
    "svd = decomposition.TruncatedSVD(n_components=10)\n",
    "\n",
    "corpus_svd = svd.fit(corpus_transformed)\n",
    "\n",
    "sample_index = 0\n",
    "feature_scores = dict(\n",
    "    zip(\n",
    "            tfv.get_feature_names(),\n",
    "            corpus_svd.components_[sample_index]\n",
    "        )\n",
    "    )\n",
    "\n",
    "N = 5\n",
    "print(sorted(feature_scores, key=feature_scores.get, reverse=True)[:N])"
   ]
  },
  {
   "cell_type": "code",
   "execution_count": 4,
   "metadata": {},
   "outputs": [
    {
     "name": "stdout",
     "output_type": "stream",
     "text": [
      "['the', ',', '.', 'a', 'and']\n",
      "['br', '<', '>', '/', '-']\n",
      "['i', 'movie', '!', 'it', 'was']\n",
      "[',', '!', \"''\", '``', 'you']\n",
      "['!', 'the', \"''\", '``', '...']\n"
     ]
    }
   ],
   "source": [
    "N = 5\n",
    "for sample_index in range(5):\n",
    "    feature_scores = dict(\n",
    "        zip(\n",
    "                tfv.get_feature_names(),\n",
    "                corpus_svd.components_[sample_index]\n",
    "            )\n",
    "    )\n",
    "    print(\n",
    "        sorted(\n",
    "                feature_scores,\n",
    "                key=feature_scores.get,\n",
    "                reverse=True\n",
    "            )[:N]\n",
    "    )"
   ]
  },
  {
   "cell_type": "markdown",
   "metadata": {},
   "source": [
    "You can see it doe'"
   ]
  }
 ],
 "metadata": {
  "kernelspec": {
   "display_name": "deep_learning",
   "language": "python",
   "name": "deep_learning"
  },
  "language_info": {
   "codemirror_mode": {
    "name": "ipython",
    "version": 3
   },
   "file_extension": ".py",
   "mimetype": "text/x-python",
   "name": "python",
   "nbconvert_exporter": "python",
   "pygments_lexer": "ipython3",
   "version": "3.7.7"
  }
 },
 "nbformat": 4,
 "nbformat_minor": 4
}
