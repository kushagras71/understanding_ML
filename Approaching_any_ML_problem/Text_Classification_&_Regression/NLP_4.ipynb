{
 "cells": [
  {
   "cell_type": "markdown",
   "metadata": {},
   "source": [
    "<b>N_gram</b> are combinations of words in order."
   ]
  },
  {
   "cell_type": "code",
   "execution_count": 5,
   "metadata": {},
   "outputs": [
    {
     "name": "stdout",
     "output_type": "stream",
     "text": [
      "('hi', ',', 'how')\n",
      "(',', 'how', 'are')\n",
      "('how', 'are', 'you')\n",
      "('are', 'you', '?')\n"
     ]
    }
   ],
   "source": [
    "from nltk import ngrams\n",
    "from nltk.tokenize import word_tokenize\n",
    "\n",
    "N = 3\n",
    "sentence = \"hi, how are you ?\"\n",
    "tokenized_sentence = word_tokenize(sentence)\n",
    "n_grams = list(ngrams(tokenized_sentence,N))\n",
    "for i in n_grams:\n",
    "    print(i)"
   ]
  },
  {
   "cell_type": "markdown",
   "metadata": {},
   "source": [
    "<i>CountVectorizer</i> and <i>TfidfVectorizer</i> implementations of scikit-learn offers ngrams by ngram_range parameter, which has a minimum and maximum limit.\n",
    "<p></p>\n",
    "Now we will implement <b>Logistic Regression</b> with <i>TdidfVectoirize</i> along with <i>N-grams</i> on the IMDB dataset."
   ]
  },
  {
   "cell_type": "code",
   "execution_count": 7,
   "metadata": {},
   "outputs": [
    {
     "name": "stdout",
     "output_type": "stream",
     "text": [
      "Fold: 0\n",
      "Accuracy = 0.8936\n",
      "\n",
      "Fold: 1\n",
      "Accuracy = 0.8894\n",
      "\n"
     ]
    }
   ],
   "source": [
    "import pandas as pd\n",
    "from nltk.tokenize import word_tokenize\n",
    "from sklearn import linear_model\n",
    "from sklearn import metrics\n",
    "from sklearn import model_selection\n",
    "from sklearn.feature_extraction.text import TfidfVectorizer\n",
    "\n",
    "if __name__ == \"__main__\":\n",
    "    df = pd.read_csv(\"input/imdb.csv\")\n",
    "    df.sentiment = df.sentiment.apply(lambda x: 1 if x == \"positive\" else 0)\n",
    "    df[\"kfold\"] = -1\n",
    "    df = df.sample(frac=1).reset_index(drop=True)\n",
    "    y = df.sentiment.values\n",
    "    kf = model_selection.StratifiedKFold(n_splits=5)\n",
    "    \n",
    "    for f, (t_, v_) in enumerate(kf.split(X=df, y=y)):\n",
    "        df.loc[v_, 'kfold'] = f\n",
    "        \n",
    "    for fold_ in range(2):\n",
    "        # temporary dataframes for train and test\n",
    "        train_df = df[df.kfold != fold_].reset_index(drop=True)\n",
    "        test_df = df[df.kfold == fold_].reset_index(drop=True)\n",
    "        # initialize TfidfVectorizer with NLTK's word_tokenize\n",
    "        # function as tokenizer\n",
    "        tfidf_vec = TfidfVectorizer(\n",
    "        tokenizer=word_tokenize,\n",
    "        token_pattern=None,\n",
    "        ngram_range=(1,3)\n",
    "        )\n",
    "\n",
    "        tfidf_vec.fit(train_df.review)\n",
    "\n",
    "        xtrain = tfidf_vec.transform(train_df.review)\n",
    "        xtest = tfidf_vec.transform(test_df.review)\n",
    "  \n",
    "        model = linear_model.LogisticRegression()\n",
    "    \n",
    "        model.fit(xtrain, train_df.sentiment)\n",
    "        preds = model.predict(xtest)\n",
    "    \n",
    "        accuracy = metrics.accuracy_score(test_df.sentiment, preds)\n",
    "        print(f\"Fold: {fold_}\")\n",
    "        print(f\"Accuracy = {accuracy}\")\n",
    "        print(\"\")"
   ]
  },
  {
   "cell_type": "code",
   "execution_count": null,
   "metadata": {},
   "outputs": [],
   "source": []
  }
 ],
 "metadata": {
  "kernelspec": {
   "display_name": "deep_learning",
   "language": "python",
   "name": "deep_learning"
  },
  "language_info": {
   "codemirror_mode": {
    "name": "ipython",
    "version": 3
   },
   "file_extension": ".py",
   "mimetype": "text/x-python",
   "name": "python",
   "nbconvert_exporter": "python",
   "pygments_lexer": "ipython3",
   "version": "3.7.7"
  }
 },
 "nbformat": 4,
 "nbformat_minor": 4
}
