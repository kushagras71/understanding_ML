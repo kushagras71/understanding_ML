{
 "cells": [
  {
   "cell_type": "markdown",
   "id": "given-clinic",
   "metadata": {},
   "source": [
    "#### Creating CNN with Functional API"
   ]
  },
  {
   "cell_type": "code",
   "execution_count": 1,
   "id": "assumed-eating",
   "metadata": {},
   "outputs": [],
   "source": [
    "import numpy as np\n",
    "from tensorflow.keras.layers import Dense, Dropout, Input\n",
    "from tensorflow.keras.layers import Conv2D, MaxPooling2D, Flatten\n",
    "from tensorflow.keras.models import Model\n",
    "from tensorflow.keras.datasets import mnist\n",
    "from tensorflow.keras.utils import to_categorical"
   ]
  },
  {
   "cell_type": "code",
   "execution_count": 2,
   "id": "suitable-secret",
   "metadata": {},
   "outputs": [],
   "source": [
    "(x_train,y_train),(x_test,y_test) = mnist.load_data()"
   ]
  },
  {
   "cell_type": "code",
   "execution_count": 3,
   "id": "painful-milton",
   "metadata": {},
   "outputs": [],
   "source": [
    "num_labels = len(np.unique(y_train))\n",
    "y_train = to_categorical(y_train)\n",
    "y_test = to_categorical(y_test)"
   ]
  },
  {
   "cell_type": "code",
   "execution_count": 4,
   "id": "ultimate-diversity",
   "metadata": {},
   "outputs": [],
   "source": [
    "image_size = x_train.shape[1]\n",
    "\n",
    "x_train = np.reshape(x_train,[-1, image_size, image_size, 1])\n",
    "x_test = np.reshape(x_test,[-1, image_size, image_size, 1])"
   ]
  },
  {
   "cell_type": "code",
   "execution_count": 5,
   "id": "familiar-light",
   "metadata": {},
   "outputs": [],
   "source": [
    "x_train = x_train.astype('float32')/255\n",
    "x_test = x_test.astype('float32')/255"
   ]
  },
  {
   "cell_type": "code",
   "execution_count": 6,
   "id": "spread-suggestion",
   "metadata": {},
   "outputs": [],
   "source": [
    "input_shape = (image_size,image_size,1)\n",
    "batch_size = 128\n",
    "kernel_size = 3\n",
    "filters = 64\n",
    "dropout = 0.3"
   ]
  },
  {
   "cell_type": "code",
   "execution_count": 8,
   "id": "distinguished-london",
   "metadata": {},
   "outputs": [],
   "source": [
    "inputs = Input(shape=input_shape)\n",
    "y = Conv2D(filters=filters,\n",
    "          kernel_size = kernel_size,\n",
    "          activation='relu')(inputs)\n",
    "y = MaxPooling2D()(y)\n",
    "y = Conv2D(filters=filters,\n",
    "          kernel_size=kernel_size,\n",
    "          activation='relu')(y)\n",
    "y = MaxPooling2D()(y)\n",
    "y = Conv2D(filters=filters,\n",
    "         kernel_size=kernel_size,\n",
    "         activation='relu')(y)\n",
    "y = Flatten()(y)\n",
    "y = Dropout(dropout)(y)\n",
    "outputs = Dense(num_labels,activation='softmax')(y)"
   ]
  },
  {
   "cell_type": "code",
   "execution_count": 9,
   "id": "occupied-worse",
   "metadata": {},
   "outputs": [
    {
     "name": "stdout",
     "output_type": "stream",
     "text": [
      "Model: \"model\"\n",
      "_________________________________________________________________\n",
      "Layer (type)                 Output Shape              Param #   \n",
      "=================================================================\n",
      "input_2 (InputLayer)         [(None, 28, 28, 1)]       0         \n",
      "_________________________________________________________________\n",
      "conv2d_2 (Conv2D)            (None, 26, 26, 64)        640       \n",
      "_________________________________________________________________\n",
      "max_pooling2d_2 (MaxPooling2 (None, 13, 13, 64)        0         \n",
      "_________________________________________________________________\n",
      "conv2d_3 (Conv2D)            (None, 11, 11, 64)        36928     \n",
      "_________________________________________________________________\n",
      "max_pooling2d_3 (MaxPooling2 (None, 5, 5, 64)          0         \n",
      "_________________________________________________________________\n",
      "conv2d_4 (Conv2D)            (None, 3, 3, 64)          36928     \n",
      "_________________________________________________________________\n",
      "flatten (Flatten)            (None, 576)               0         \n",
      "_________________________________________________________________\n",
      "dropout (Dropout)            (None, 576)               0         \n",
      "_________________________________________________________________\n",
      "dense (Dense)                (None, 10)                5770      \n",
      "=================================================================\n",
      "Total params: 80,266\n",
      "Trainable params: 80,266\n",
      "Non-trainable params: 0\n",
      "_________________________________________________________________\n"
     ]
    }
   ],
   "source": [
    "model = Model(inputs=inputs, outputs=outputs)\n",
    "model.summary()"
   ]
  },
  {
   "cell_type": "code",
   "execution_count": 10,
   "id": "binary-haven",
   "metadata": {},
   "outputs": [],
   "source": [
    "model.compile(loss='categorical_crossentropy',\n",
    "             optimizer='adam',\n",
    "             metrics='accuracy')"
   ]
  },
  {
   "cell_type": "code",
   "execution_count": 11,
   "id": "handmade-state",
   "metadata": {},
   "outputs": [
    {
     "name": "stdout",
     "output_type": "stream",
     "text": [
      "Epoch 1/15\n",
      "469/469 [==============================] - 13s 28ms/step - loss: 1.3062 - accuracy: 0.7218 - val_loss: 0.2726 - val_accuracy: 0.9624\n",
      "Epoch 2/15\n",
      "469/469 [==============================] - 13s 28ms/step - loss: 0.5657 - accuracy: 0.9380 - val_loss: 0.1322 - val_accuracy: 0.9798\n",
      "Epoch 3/15\n",
      "469/469 [==============================] - 13s 28ms/step - loss: 0.3413 - accuracy: 0.9594 - val_loss: 0.1375 - val_accuracy: 0.9810\n",
      "Epoch 4/15\n",
      "469/469 [==============================] - 13s 28ms/step - loss: 0.2301 - accuracy: 0.9691 - val_loss: 0.0934 - val_accuracy: 0.9840\n",
      "Epoch 5/15\n",
      "469/469 [==============================] - 13s 28ms/step - loss: 0.2077 - accuracy: 0.9717 - val_loss: 0.1236 - val_accuracy: 0.9836\n",
      "Epoch 6/15\n",
      "469/469 [==============================] - 13s 28ms/step - loss: 0.1786 - accuracy: 0.9738 - val_loss: 0.1185 - val_accuracy: 0.9841\n",
      "Epoch 7/15\n",
      "469/469 [==============================] - 13s 29ms/step - loss: 0.1827 - accuracy: 0.9750 - val_loss: 0.0892 - val_accuracy: 0.9878\n",
      "Epoch 8/15\n",
      "469/469 [==============================] - 13s 28ms/step - loss: 0.1661 - accuracy: 0.9774 - val_loss: 0.0688 - val_accuracy: 0.9897\n",
      "Epoch 9/15\n",
      "469/469 [==============================] - 13s 28ms/step - loss: 0.1458 - accuracy: 0.9797 - val_loss: 0.0850 - val_accuracy: 0.9883\n",
      "Epoch 10/15\n",
      "469/469 [==============================] - 13s 28ms/step - loss: 0.2036 - accuracy: 0.9779 - val_loss: 0.0976 - val_accuracy: 0.9888\n",
      "Epoch 11/15\n",
      "469/469 [==============================] - 13s 28ms/step - loss: 0.1854 - accuracy: 0.9806 - val_loss: 0.1304 - val_accuracy: 0.9858\n",
      "Epoch 12/15\n",
      "469/469 [==============================] - 13s 28ms/step - loss: 0.1921 - accuracy: 0.9810 - val_loss: 0.1511 - val_accuracy: 0.9869\n",
      "Epoch 13/15\n",
      "469/469 [==============================] - 13s 28ms/step - loss: 0.2523 - accuracy: 0.9800 - val_loss: 0.1615 - val_accuracy: 0.9871\n",
      "Epoch 14/15\n",
      "469/469 [==============================] - 13s 28ms/step - loss: 0.2897 - accuracy: 0.9800 - val_loss: 0.1505 - val_accuracy: 0.9895\n",
      "Epoch 15/15\n",
      "469/469 [==============================] - 13s 28ms/step - loss: 0.2488 - accuracy: 0.9836 - val_loss: 0.1842 - val_accuracy: 0.9902\n"
     ]
    },
    {
     "data": {
      "text/plain": [
       "<tensorflow.python.keras.callbacks.History at 0x14c7f7370>"
      ]
     },
     "execution_count": 11,
     "metadata": {},
     "output_type": "execute_result"
    }
   ],
   "source": [
    "model.fit(x_train,y_train,\n",
    "         validation_data=(x_test,y_test),\n",
    "         epochs=15,\n",
    "         batch_size = batch_size)"
   ]
  },
  {
   "cell_type": "code",
   "execution_count": 12,
   "id": "useful-physiology",
   "metadata": {},
   "outputs": [
    {
     "name": "stdout",
     "output_type": "stream",
     "text": [
      "79/79 - 1s - loss: 0.1842 - accuracy: 0.9902\n"
     ]
    }
   ],
   "source": [
    "score = model.evaluate(x_test,y_test,batch_size = batch_size,verbose = 2)"
   ]
  },
  {
   "cell_type": "code",
   "execution_count": 13,
   "id": "close-thailand",
   "metadata": {},
   "outputs": [
    {
     "name": "stdout",
     "output_type": "stream",
     "text": [
      "\n",
      "Test accuracy: 99.0%\n"
     ]
    }
   ],
   "source": [
    "print(\"\\nTest accuracy: %.1f%%\"%(100.0*score[1]))"
   ]
  },
  {
   "cell_type": "markdown",
   "id": "banned-charter",
   "metadata": {},
   "source": [
    "#### 2-input and 1-output model (Y-model with Functional API)"
   ]
  },
  {
   "cell_type": "code",
   "execution_count": 49,
   "id": "gothic-potential",
   "metadata": {},
   "outputs": [],
   "source": [
    "from tensorflow.keras.layers import concatenate"
   ]
  },
  {
   "cell_type": "code",
   "execution_count": 50,
   "id": "tropical-classification",
   "metadata": {},
   "outputs": [],
   "source": [
    "from tensorflow.keras.utils import plot_model"
   ]
  },
  {
   "cell_type": "code",
   "execution_count": 51,
   "id": "ruled-reminder",
   "metadata": {},
   "outputs": [],
   "source": [
    "(x_train,y_train),(x_test,y_test) = mnist.load_data()\n",
    "\n",
    "num_labels = len(np.unique(y_train))\n",
    "y_train = to_categorical(y_train)\n",
    "y_test = to_categorical(y_test)\n",
    "\n",
    "image_size = x_train.shape[1]\n",
    "\n",
    "x_train = np.reshape(x_train,[-1, image_size, image_size, 1])\n",
    "x_test = np.reshape(x_test,[-1, image_size, image_size, 1])\n",
    "\n",
    "x_train = x_train.astype('float32')/255\n",
    "x_test = x_test.astype('float32')/255"
   ]
  },
  {
   "cell_type": "code",
   "execution_count": 57,
   "id": "prepared-casting",
   "metadata": {},
   "outputs": [],
   "source": [
    "input_shape = (image_size,image_size,1)\n",
    "batch_size = 128\n",
    "kernel_size = 3\n",
    "dropout = 0.4\n",
    "n_filters = 32"
   ]
  },
  {
   "cell_type": "code",
   "execution_count": 58,
   "id": "reflected-appeal",
   "metadata": {},
   "outputs": [],
   "source": [
    "#left branch\n",
    "left_inputs = Input(shape = input_shape)\n",
    "x = left_inputs\n",
    "filters = n_filters\n",
    "\n",
    "# 3 - layers of Conv-Dropout-Maxpool\n",
    "for i in range(3):\n",
    "    x = Conv2D(filters=filters,\n",
    "              kernel_size = kernel_size,\n",
    "              padding='same',\n",
    "              activation = 'relu')(x)\n",
    "    x = Dropout(dropout)(x)\n",
    "    x = MaxPooling2D()(x)\n",
    "    filters *= 2\n",
    "\n",
    "#=========================================================\n",
    "    \n",
    "#right branch\n",
    "right_inputs = Input(shape=input_shape)\n",
    "y = right_inputs\n",
    "\n",
    "# 3 - layers of Conv-Dropout-Maxpool\n",
    "for i in range(3):\n",
    "    y = Conv2D(filters=filters,\n",
    "              kernel_size = kernel_size,\n",
    "              padding='same',\n",
    "              activation = 'relu',\n",
    "              dilation_rate=2)(y)\n",
    "    \n",
    "    y = Dropout(dropout)(y)\n",
    "    y = MaxPooling2D()(y)\n",
    "    filters *= 2\n",
    "\n"
   ]
  },
  {
   "cell_type": "code",
   "execution_count": 59,
   "id": "actual-pocket",
   "metadata": {},
   "outputs": [
    {
     "name": "stdout",
     "output_type": "stream",
     "text": [
      "Model: \"model_6\"\n",
      "__________________________________________________________________________________________________\n",
      "Layer (type)                    Output Shape         Param #     Connected to                     \n",
      "==================================================================================================\n",
      "input_22 (InputLayer)           [(None, 28, 28, 1)]  0                                            \n",
      "__________________________________________________________________________________________________\n",
      "input_23 (InputLayer)           [(None, 28, 28, 1)]  0                                            \n",
      "__________________________________________________________________________________________________\n",
      "conv2d_55 (Conv2D)              (None, 28, 28, 32)   320         input_22[0][0]                   \n",
      "__________________________________________________________________________________________________\n",
      "conv2d_58 (Conv2D)              (None, 28, 28, 256)  2560        input_23[0][0]                   \n",
      "__________________________________________________________________________________________________\n",
      "dropout_54 (Dropout)            (None, 28, 28, 32)   0           conv2d_55[0][0]                  \n",
      "__________________________________________________________________________________________________\n",
      "dropout_57 (Dropout)            (None, 28, 28, 256)  0           conv2d_58[0][0]                  \n",
      "__________________________________________________________________________________________________\n",
      "max_pooling2d_51 (MaxPooling2D) (None, 14, 14, 32)   0           dropout_54[0][0]                 \n",
      "__________________________________________________________________________________________________\n",
      "max_pooling2d_54 (MaxPooling2D) (None, 14, 14, 256)  0           dropout_57[0][0]                 \n",
      "__________________________________________________________________________________________________\n",
      "conv2d_56 (Conv2D)              (None, 14, 14, 64)   18496       max_pooling2d_51[0][0]           \n",
      "__________________________________________________________________________________________________\n",
      "conv2d_59 (Conv2D)              (None, 14, 14, 512)  1180160     max_pooling2d_54[0][0]           \n",
      "__________________________________________________________________________________________________\n",
      "dropout_55 (Dropout)            (None, 14, 14, 64)   0           conv2d_56[0][0]                  \n",
      "__________________________________________________________________________________________________\n",
      "dropout_58 (Dropout)            (None, 14, 14, 512)  0           conv2d_59[0][0]                  \n",
      "__________________________________________________________________________________________________\n",
      "max_pooling2d_52 (MaxPooling2D) (None, 7, 7, 64)     0           dropout_55[0][0]                 \n",
      "__________________________________________________________________________________________________\n",
      "max_pooling2d_55 (MaxPooling2D) (None, 7, 7, 512)    0           dropout_58[0][0]                 \n",
      "__________________________________________________________________________________________________\n",
      "conv2d_57 (Conv2D)              (None, 7, 7, 128)    73856       max_pooling2d_52[0][0]           \n",
      "__________________________________________________________________________________________________\n",
      "conv2d_60 (Conv2D)              (None, 7, 7, 1024)   4719616     max_pooling2d_55[0][0]           \n",
      "__________________________________________________________________________________________________\n",
      "dropout_56 (Dropout)            (None, 7, 7, 128)    0           conv2d_57[0][0]                  \n",
      "__________________________________________________________________________________________________\n",
      "dropout_59 (Dropout)            (None, 7, 7, 1024)   0           conv2d_60[0][0]                  \n",
      "__________________________________________________________________________________________________\n",
      "max_pooling2d_53 (MaxPooling2D) (None, 3, 3, 128)    0           dropout_56[0][0]                 \n",
      "__________________________________________________________________________________________________\n",
      "max_pooling2d_56 (MaxPooling2D) (None, 3, 3, 1024)   0           dropout_59[0][0]                 \n",
      "__________________________________________________________________________________________________\n",
      "concatenate_12 (Concatenate)    (None, 3, 3, 1152)   0           max_pooling2d_53[0][0]           \n",
      "                                                                 max_pooling2d_56[0][0]           \n",
      "__________________________________________________________________________________________________\n",
      "flatten_7 (Flatten)             (None, 10368)        0           concatenate_12[0][0]             \n",
      "__________________________________________________________________________________________________\n",
      "dropout_60 (Dropout)            (None, 10368)        0           flatten_7[0][0]                  \n",
      "__________________________________________________________________________________________________\n",
      "dense_6 (Dense)                 (None, 10)           103690      dropout_60[0][0]                 \n",
      "==================================================================================================\n",
      "Total params: 6,098,698\n",
      "Trainable params: 6,098,698\n",
      "Non-trainable params: 0\n",
      "__________________________________________________________________________________________________\n"
     ]
    }
   ],
   "source": [
    "import os\n",
    "y = concatenate([x,y])\n",
    "\n",
    "y=Flatten()(y)\n",
    "y=Dropout(dropout)(y)\n",
    "outputs = Dense(num_labels,activation='softmax')(y)\n",
    "\n",
    "model = Model([left_inputs,right_inputs],outputs)\n",
    "# plot_model(model,show_shapes=True)\n",
    "model.summary()"
   ]
  },
  {
   "cell_type": "code",
   "execution_count": 60,
   "id": "capital-compilation",
   "metadata": {},
   "outputs": [],
   "source": [
    "model.compile(loss='categorical_crossentropy',\n",
    "             optimizer='adam',\n",
    "             metrics=['accuracy'])"
   ]
  },
  {
   "cell_type": "code",
   "execution_count": 62,
   "id": "desirable-snowboard",
   "metadata": {},
   "outputs": [
    {
     "name": "stdout",
     "output_type": "stream",
     "text": [
      "469/469 [==============================] - 526s 1s/step - loss: 0.0732 - accuracy: 0.9784 - val_loss: 0.0836 - val_accuracy: 0.9867\n"
     ]
    },
    {
     "data": {
      "text/plain": [
       "<tensorflow.python.keras.callbacks.History at 0x340b310d0>"
      ]
     },
     "execution_count": 62,
     "metadata": {},
     "output_type": "execute_result"
    }
   ],
   "source": [
    "model.fit([x_train,x_train],y_train,\n",
    "          validation_data=([x_test,x_test],y_test),\n",
    "         epochs= 1,\n",
    "         batch_size = batch_size)"
   ]
  },
  {
   "cell_type": "code",
   "execution_count": 63,
   "id": "supreme-brass",
   "metadata": {},
   "outputs": [
    {
     "name": "stdout",
     "output_type": "stream",
     "text": [
      "79/79 - 29s - loss: 0.0836 - accuracy: 0.9867\n",
      "\n",
      "Test accuracy: 98.7%\n"
     ]
    }
   ],
   "source": [
    "score = model.evaluate([x_test,x_test],\n",
    "                      y_test,\n",
    "                      batch_size=batch_size,\n",
    "                      verbose=2)\n",
    "print(\"\\nTest accuracy: %.1f%%\"%(100.0*score[1]))"
   ]
  },
  {
   "cell_type": "code",
   "execution_count": null,
   "id": "verbal-participant",
   "metadata": {},
   "outputs": [],
   "source": []
  }
 ],
 "metadata": {
  "kernelspec": {
   "display_name": "m1_tensorflow",
   "language": "python",
   "name": "m1_tensorflow"
  },
  "language_info": {
   "codemirror_mode": {
    "name": "ipython",
    "version": 3
   },
   "file_extension": ".py",
   "mimetype": "text/x-python",
   "name": "python",
   "nbconvert_exporter": "python",
   "pygments_lexer": "ipython3",
   "version": "3.8.8"
  }
 },
 "nbformat": 4,
 "nbformat_minor": 5
}
